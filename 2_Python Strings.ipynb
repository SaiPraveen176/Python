{
 "cells": [
  {
   "cell_type": "markdown",
   "metadata": {},
   "source": [
    "# Assignment Instructions\n",
    "\n",
    "`Hello Innominion,`\n",
    "\n",
    "- **Try to attempt all the questions in every possible way.**\n",
    "- **Some other topics are required to solve some questions. don't panic.**\n",
    "- **Those questions can be answered after the topics are taught.**\n",
    "\n",
    "\n",
    "- `Join Mentoring Session for the Support/Doubts Resolving with Our Technical Mentors (2.00 PM - 6.00 PM  Mon-Sat)` \n",
    "\n",
    "Happy Learning !!!"
   ]
  },
  {
   "cell_type": "code",
   "execution_count": null,
   "metadata": {},
   "outputs": [],
   "source": []
  },
  {
   "cell_type": "markdown",
   "metadata": {},
   "source": [
    "# Strings - Execrise"
   ]
  },
  {
   "cell_type": "code",
   "execution_count": 62,
   "metadata": {},
   "outputs": [],
   "source": [
    "text = \"\"\"The University of Hawaii began using radio to send digital information as early as 1971,using ALOHAnet. \n",
    "Friedhelm Hillebrand conceptualised SMS in 1984 while working for Deutsche Telekom. Sitting at a typewriter at home, \n",
    "Hillebrand typed out random sentences and counted every letter, number, punctuation, and space. \n",
    "Almost every time, the messages contained fewer than 160 characters, thus giving the basis for the \n",
    "limit one could type via text messaging. With Bernard Ghillebaert of France Télécom, he developed \n",
    "a proposal for the GSM (Groupe Spécial Mobile) meeting in February 1985 in Oslo. \n",
    "The first technical solution evolved in a GSM subgroup under the leadership of Finn Trosby. \n",
    "It was further developed under the leadership of Kevin Holley and Ian Harris (see Short Message Service). \n",
    "SMS forms an integral part of SS7 (Signalling System No. 7). Under SS7, it is a \"state\" with a 160 character data, \n",
    "coded in the ITU-T \"T.56\" text format, that has a \"sequence lead in\" to determine different language codes, \n",
    "and may have special character codes that permits, for example, sending simple graphs as text. \n",
    "This was part of ISDN (Integrated Services Digital Network) and since GSM is based on this, \n",
    "made its way to the mobile phone. Messages could be sent and received on ISDN phones, \n",
    "and these can send SMS to any GSM phone. The possibility of doing something is one thing, \n",
    "implementing it another, but systems existed from 1988 that sent SMS messages to mobile phones (compare ND-NOTIS).\"\"\""
   ]
  },
  {
   "cell_type": "markdown",
   "metadata": {},
   "source": [
    ">  `Question:` How many characters in text"
   ]
  },
  {
   "cell_type": "code",
   "execution_count": 4,
   "metadata": {},
   "outputs": [
    {
     "name": "stdout",
     "output_type": "stream",
     "text": [
      "1507\n"
     ]
    }
   ],
   "source": [
    "print(len(text))"
   ]
  },
  {
   "cell_type": "code",
   "execution_count": null,
   "metadata": {},
   "outputs": [],
   "source": []
  },
  {
   "cell_type": "markdown",
   "metadata": {},
   "source": [
    ">  `Question:` How many words are there in the \"text\""
   ]
  },
  {
   "cell_type": "code",
   "execution_count": 5,
   "metadata": {},
   "outputs": [
    {
     "name": "stdout",
     "output_type": "stream",
     "text": [
      "244\n"
     ]
    }
   ],
   "source": [
    "a = text.split()\n",
    "c= len(a)\n",
    "print(c)"
   ]
  },
  {
   "cell_type": "markdown",
   "metadata": {},
   "source": [
    ">  `Question:` How many unique words in the \"text\""
   ]
  },
  {
   "cell_type": "code",
   "execution_count": 6,
   "metadata": {},
   "outputs": [
    {
     "name": "stdout",
     "output_type": "stream",
     "text": [
      "174\n"
     ]
    }
   ],
   "source": [
    "# CODE HERE\n",
    "b=set(a)\n",
    "d=len(b)\n",
    "print(d)"
   ]
  },
  {
   "cell_type": "markdown",
   "metadata": {},
   "source": [
    ">  `Question:` Find Lexical diversity\n",
    "\n",
    "lexical_diversity = (number of words)/(number of unique words)"
   ]
  },
  {
   "cell_type": "code",
   "execution_count": 7,
   "metadata": {},
   "outputs": [
    {
     "name": "stdout",
     "output_type": "stream",
     "text": [
      "1.4022988505747127\n"
     ]
    }
   ],
   "source": [
    "lexical_diversity = c/d\n",
    "print(lexical_diversity)"
   ]
  },
  {
   "cell_type": "markdown",
   "metadata": {},
   "source": [
    ">  `Question:` Count how many \"the\" in text"
   ]
  },
  {
   "cell_type": "code",
   "execution_count": 8,
   "metadata": {},
   "outputs": [
    {
     "data": {
      "text/plain": [
       "'The University of Hawaii began using radio to send digital information as early as 1971,using ALOHAnet. \\nFriedhelm Hillebrand conceptualised SMS in 1984 while working for Deutsche Telekom. Sitting at a typewriter at home, \\nHillebrand typed out random sentences and counted every letter, number, punctuation, and space. \\nAlmost every time, the messages contained fewer than 160 characters, thus giving the basis for the \\nlimit one could type via text messaging. With Bernard Ghillebaert of France Télécom, he developed \\na proposal for the GSM (Groupe Spécial Mobile) meeting in February 1985 in Oslo. \\nThe first technical solution evolved in a GSM subgroup under the leadership of Finn Trosby. \\nIt was further developed under the leadership of Kevin Holley and Ian Harris (see Short Message Service). \\nSMS forms an integral part of SS7 (Signalling System No. 7). Under SS7, it is a \"state\" with a 160 character data, \\ncoded in the ITU-T \"T.56\" text format, that has a \"sequence lead in\" to determine different language codes, \\nand may have special character codes that permits, for example, sending simple graphs as text. \\nThis was part of ISDN (Integrated Services Digital Network) and since GSM is based on this, \\nmade its way to the mobile phone. Messages could be sent and received on ISDN phones, \\nand these can send SMS to any GSM phone. The possibility of doing something is one thing, \\nimplementing it another, but systems existed from 1988 that sent SMS messages to mobile phones (compare ND-NOTIS).'"
      ]
     },
     "execution_count": 8,
     "metadata": {},
     "output_type": "execute_result"
    }
   ],
   "source": [
    "# CODE HERE\n",
    "text\n"
   ]
  },
  {
   "cell_type": "code",
   "execution_count": 9,
   "metadata": {},
   "outputs": [
    {
     "name": "stdout",
     "output_type": "stream",
     "text": [
      "14\n"
     ]
    }
   ],
   "source": [
    "s=text.lower()\n",
    "ss=s.count(\"the\")\n",
    "print(ss)"
   ]
  },
  {
   "cell_type": "markdown",
   "metadata": {},
   "source": [
    ">  `Question:` Count how many \"a\" in text"
   ]
  },
  {
   "cell_type": "code",
   "execution_count": 10,
   "metadata": {},
   "outputs": [
    {
     "name": "stdout",
     "output_type": "stream",
     "text": [
      "92\n"
     ]
    }
   ],
   "source": [
    "p=text.lower()\n",
    "pp=p.count(\"a\")\n",
    "print(pp)"
   ]
  },
  {
   "cell_type": "markdown",
   "metadata": {},
   "source": [
    ">  `Question:` Extract First 10 words in text"
   ]
  },
  {
   "cell_type": "code",
   "execution_count": 11,
   "metadata": {},
   "outputs": [
    {
     "name": "stdout",
     "output_type": "stream",
     "text": [
      "The University of Hawaii began using radio to send digital\n"
     ]
    }
   ],
   "source": [
    "# CODE HERE\n",
    "a=text.split()\n",
    "aa=a[0:10]\n",
    "x=\" \".join(aa)\n",
    "print(x)"
   ]
  },
  {
   "cell_type": "code",
   "execution_count": null,
   "metadata": {},
   "outputs": [],
   "source": []
  },
  {
   "cell_type": "markdown",
   "metadata": {},
   "source": [
    ">  `Question:` Append \" Innomatics Reseach Labs\" after first 10 words in the text"
   ]
  },
  {
   "cell_type": "code",
   "execution_count": 12,
   "metadata": {},
   "outputs": [
    {
     "data": {
      "text/plain": [
       "'The University of Hawaii began using radio to send digital'"
      ]
     },
     "execution_count": 12,
     "metadata": {},
     "output_type": "execute_result"
    }
   ],
   "source": [
    "z=x.split()\n",
    "\" \".join(z)\n"
   ]
  },
  {
   "cell_type": "code",
   "execution_count": 13,
   "metadata": {},
   "outputs": [
    {
     "data": {
      "text/plain": [
       "'The University of Hawaii began using radio to send digital Innomatics Reseach Labs'"
      ]
     },
     "execution_count": 13,
     "metadata": {},
     "output_type": "execute_result"
    }
   ],
   "source": [
    "z.append(\"Innomatics Reseach Labs\")\n",
    "\" \".join(z)"
   ]
  },
  {
   "cell_type": "markdown",
   "metadata": {},
   "source": [
    ">  `Question:` Extract First Fourteen (14) character in text"
   ]
  },
  {
   "cell_type": "code",
   "execution_count": 14,
   "metadata": {},
   "outputs": [
    {
     "data": {
      "text/plain": [
       "'The University of Hawaii began using radio to send digital information as early as 1971,using ALOHAnet. \\nFriedhelm Hillebrand conceptualised SMS in 1984 while working for Deutsche Telekom. Sitting at a typewriter at home, \\nHillebrand typed out random sentences and counted every letter, number, punctuation, and space. \\nAlmost every time, the messages contained fewer than 160 characters, thus giving the basis for the \\nlimit one could type via text messaging. With Bernard Ghillebaert of France Télécom, he developed \\na proposal for the GSM (Groupe Spécial Mobile) meeting in February 1985 in Oslo. \\nThe first technical solution evolved in a GSM subgroup under the leadership of Finn Trosby. \\nIt was further developed under the leadership of Kevin Holley and Ian Harris (see Short Message Service). \\nSMS forms an integral part of SS7 (Signalling System No. 7). Under SS7, it is a \"state\" with a 160 character data, \\ncoded in the ITU-T \"T.56\" text format, that has a \"sequence lead in\" to determine different language codes, \\nand may have special character codes that permits, for example, sending simple graphs as text. \\nThis was part of ISDN (Integrated Services Digital Network) and since GSM is based on this, \\nmade its way to the mobile phone. Messages could be sent and received on ISDN phones, \\nand these can send SMS to any GSM phone. The possibility of doing something is one thing, \\nimplementing it another, but systems existed from 1988 that sent SMS messages to mobile phones (compare ND-NOTIS).'"
      ]
     },
     "execution_count": 14,
     "metadata": {},
     "output_type": "execute_result"
    }
   ],
   "source": [
    "# CODE HERE\n",
    "text"
   ]
  },
  {
   "cell_type": "code",
   "execution_count": 15,
   "metadata": {},
   "outputs": [
    {
     "name": "stdout",
     "output_type": "stream",
     "text": [
      "The University of Hawaii began using radio to send digital information as early as\n"
     ]
    }
   ],
   "source": [
    "x=text.split()\n",
    "y=x[0:14]\n",
    "z=\" \".join(y)\n",
    "print(z)"
   ]
  },
  {
   "cell_type": "markdown",
   "metadata": {},
   "source": [
    ">  `Question:` Extract first Fourteen (14) words in text"
   ]
  },
  {
   "cell_type": "code",
   "execution_count": 16,
   "metadata": {},
   "outputs": [],
   "source": [
    "# CODE HERE"
   ]
  },
  {
   "cell_type": "code",
   "execution_count": null,
   "metadata": {},
   "outputs": [],
   "source": []
  },
  {
   "cell_type": "markdown",
   "metadata": {},
   "source": [
    ">  `Question:` Extract First 10 words in text\n",
    "- Convert every letter into ***upper*** case\n",
    "- Convert every letter into ***lower*** case"
   ]
  },
  {
   "cell_type": "code",
   "execution_count": 17,
   "metadata": {},
   "outputs": [
    {
     "name": "stdout",
     "output_type": "stream",
     "text": [
      "The University of Hawaii began using radio to send digital\n"
     ]
    }
   ],
   "source": [
    "# CODE HERE\n",
    "x=text.split()\n",
    "y=x[0:10]\n",
    "z=\" \".join(y)\n",
    "print(z)"
   ]
  },
  {
   "cell_type": "code",
   "execution_count": 18,
   "metadata": {},
   "outputs": [
    {
     "data": {
      "text/plain": [
       "'THE UNIVERSITY OF HAWAII BEGAN USING RADIO TO SEND DIGITAL'"
      ]
     },
     "execution_count": 18,
     "metadata": {},
     "output_type": "execute_result"
    }
   ],
   "source": [
    "z.upper()\n"
   ]
  },
  {
   "cell_type": "code",
   "execution_count": 19,
   "metadata": {},
   "outputs": [],
   "source": [
    "# CODE HERE"
   ]
  },
  {
   "cell_type": "code",
   "execution_count": 20,
   "metadata": {},
   "outputs": [
    {
     "data": {
      "text/plain": [
       "'the university of hawaii began using radio to send digital'"
      ]
     },
     "execution_count": 20,
     "metadata": {},
     "output_type": "execute_result"
    }
   ],
   "source": [
    "z.lower()\n"
   ]
  },
  {
   "cell_type": "markdown",
   "metadata": {},
   "source": [
    ">  `Question:`  Find the list of letter starting with \n",
    "- u\n",
    "- o\n",
    "> `hint - You need to use for loop for this`"
   ]
  },
  {
   "cell_type": "code",
   "execution_count": 21,
   "metadata": {},
   "outputs": [],
   "source": [
    "# CODE HERE"
   ]
  },
  {
   "cell_type": "code",
   "execution_count": 44,
   "metadata": {},
   "outputs": [
    {
     "data": {
      "text/plain": [
       "'the university of hawaii began using radio to send digital information as early as 1971,using alohanet. \\nfriedhelm hillebrand conceptualised sms in 1984 while working for deutsche telekom. sitting at a typewriter at home, \\nhillebrand typed out random sentences and counted every letter, number, punctuation, and space. \\nalmost every time, the messages contained fewer than 160 characters, thus giving the basis for the \\nlimit one could type via text messaging. with bernard ghillebaert of france télécom, he developed \\na proposal for the gsm (groupe spécial mobile) meeting in february 1985 in oslo. \\nthe first technical solution evolved in a gsm subgroup under the leadership of finn trosby. \\nit was further developed under the leadership of kevin holley and ian harris (see short message service). \\nsms forms an integral part of ss7 (signalling system no. 7). under ss7, it is a \"state\" with a 160 character data, \\ncoded in the itu-t \"t.56\" text format, that has a \"sequence lead in\" to determine different language codes, \\nand may have special character codes that permits, for example, sending simple graphs as text. \\nthis was part of isdn (integrated services digital network) and since gsm is based on this, \\nmade its way to the mobile phone. messages could be sent and received on isdn phones, \\nand these can send sms to any gsm phone. the possibility of doing something is one thing, \\nimplementing it another, but systems existed from 1988 that sent sms messages to mobile phones (compare nd-notis).'"
      ]
     },
     "execution_count": 44,
     "metadata": {},
     "output_type": "execute_result"
    }
   ],
   "source": [
    "text\n",
    "b=text.lower()\n",
    "b"
   ]
  },
  {
   "cell_type": "code",
   "execution_count": 23,
   "metadata": {},
   "outputs": [
    {
     "name": "stdout",
     "output_type": "stream",
     "text": [
      "{'university', 'under', 'using'}\n"
     ]
    }
   ],
   "source": [
    "a=b.split()\n",
    "\" \".join(a)\n",
    "count=[]\n",
    "for i in a:\n",
    "    if i.find('u')==0:\n",
    "        count.append(i)\n",
    "print(set(count))\n",
    "\n",
    "    \n"
   ]
  },
  {
   "cell_type": "code",
   "execution_count": 34,
   "metadata": {},
   "outputs": [
    {
     "name": "stdout",
     "output_type": "stream",
     "text": [
      "{'one', 'of', 'out', 'on'}\n"
     ]
    }
   ],
   "source": [
    "c=b.split()\n",
    "\" \".join(c)\n",
    "res=[]\n",
    "for i in a:\n",
    "    if i.find('o')==0:\n",
    "        res.append(i)\n",
    "print(set(res))"
   ]
  },
  {
   "cell_type": "markdown",
   "metadata": {},
   "source": [
    ">  `Question:` Find the list of letter ending with \n",
    "- e\n",
    "- n\n",
    "> `hint - You need to use for loop for this`"
   ]
  },
  {
   "cell_type": "code",
   "execution_count": 36,
   "metadata": {},
   "outputs": [
    {
     "name": "stdout",
     "output_type": "stream",
     "text": [
      "{'while', 'language', 'the', 'these', 'made', 'Message', 'be', 'determine', 'The', 'he', 'mobile', 'France', 'since', '(compare', 'simple', 'Deutsche', 'have', 'type', '\"sequence', 'one', '(see', '(Groupe'}\n"
     ]
    }
   ],
   "source": [
    "# CODE HERE\n",
    "a=text.split()\n",
    "c=[]\n",
    "for i in a:\n",
    "    if i[-1]== \"e\":\n",
    "        c.append(i)\n",
    "print(set(c))\n",
    "        \n",
    "\n"
   ]
  },
  {
   "cell_type": "code",
   "execution_count": 29,
   "metadata": {},
   "outputs": [],
   "source": []
  },
  {
   "cell_type": "code",
   "execution_count": 30,
   "metadata": {},
   "outputs": [
    {
     "name": "stdout",
     "output_type": "stream",
     "text": [
      "List of words ends with e is:\n",
      "{'be', 'these', 'deutsche', 'one', 'made', 'he', 'message', 'type', 'mobile', '(compare', 'france', 'determine', '(see', 'have', '(groupe', 'while', 'since', '\"sequence', 'simple', 'language', 'the'}\n"
     ]
    }
   ],
   "source": []
  },
  {
   "cell_type": "code",
   "execution_count": 31,
   "metadata": {},
   "outputs": [
    {
     "name": "stdout",
     "output_type": "stream",
     "text": [
      "List of words ends with n is:\n",
      "{'kevin', 'than', 'in', 'ian', 'an', 'solution', 'finn', 'on', 'can', 'information', 'isdn', 'began'}\n"
     ]
    }
   ],
   "source": []
  },
  {
   "cell_type": "code",
   "execution_count": 46,
   "metadata": {},
   "outputs": [
    {
     "name": "stdout",
     "output_type": "stream",
     "text": [
      "{'information', 'isdn', 'solution', 'can', 'finn', 'on', 'began', 'an', 'ian', 'in', 'kevin', 'than'}\n"
     ]
    }
   ],
   "source": [
    "# CODE HERE\n",
    "b=text.lower()\n",
    "a=b.split()\n",
    "c=[]\n",
    "for i in a:\n",
    "    if i[-1]== \"n\":\n",
    "        c.append(i)\n",
    "print(set(c))\n",
    "        \n",
    "\n"
   ]
  },
  {
   "cell_type": "markdown",
   "metadata": {},
   "source": [
    ">  `Question:` Extract first 10 words of text and Capitalize first letter of each word"
   ]
  },
  {
   "cell_type": "code",
   "execution_count": 32,
   "metadata": {},
   "outputs": [],
   "source": [
    "# CODE HERE"
   ]
  },
  {
   "cell_type": "code",
   "execution_count": 71,
   "metadata": {},
   "outputs": [
    {
     "name": "stdout",
     "output_type": "stream",
     "text": [
      "The University Of Hawaii Began Using Radio To Send Digital Information\n"
     ]
    }
   ],
   "source": [
    "text\n",
    "a=text.split()\n",
    "b=a[0:11]\n",
    "c=\" \".join(b)\n",
    "d=c.title()\n",
    "print(d)"
   ]
  },
  {
   "cell_type": "markdown",
   "metadata": {},
   "source": [
    ">  `Question:` Replace the word \"University\" with name \"Innomatics\" in text"
   ]
  },
  {
   "cell_type": "code",
   "execution_count": 72,
   "metadata": {},
   "outputs": [
    {
     "data": {
      "text/plain": [
       "'The Innomatics of Hawaii began using radio to send digital information as early as 1971,using ALOHAnet. \\nFriedhelm Hillebrand conceptualised SMS in 1984 while working for Deutsche Telekom. Sitting at a typewriter at home, \\nHillebrand typed out random sentences and counted every letter, number, punctuation, and space. \\nAlmost every time, the messages contained fewer than 160 characters, thus giving the basis for the \\nlimit one could type via text messaging. With Bernard Ghillebaert of France Télécom, he developed \\na proposal for the GSM (Groupe Spécial Mobile) meeting in February 1985 in Oslo. \\nThe first technical solution evolved in a GSM subgroup under the leadership of Finn Trosby. \\nIt was further developed under the leadership of Kevin Holley and Ian Harris (see Short Message Service). \\nSMS forms an integral part of SS7 (Signalling System No. 7). Under SS7, it is a \"state\" with a 160 character data, \\ncoded in the ITU-T \"T.56\" text format, that has a \"sequence lead in\" to determine different language codes, \\nand may have special character codes that permits, for example, sending simple graphs as text. \\nThis was part of ISDN (Integrated Services Digital Network) and since GSM is based on this, \\nmade its way to the mobile phone. Messages could be sent and received on ISDN phones, \\nand these can send SMS to any GSM phone. The possibility of doing something is one thing, \\nimplementing it another, but systems existed from 1988 that sent SMS messages to mobile phones (compare ND-NOTIS).'"
      ]
     },
     "execution_count": 72,
     "metadata": {},
     "output_type": "execute_result"
    }
   ],
   "source": [
    "# CODE HERE\n",
    "text\n",
    "a=text.split()\n",
    "text.replace(\"University\",\"Innomatics\")"
   ]
  },
  {
   "cell_type": "code",
   "execution_count": 35,
   "metadata": {
    "scrolled": false
   },
   "outputs": [
    {
     "name": "stdout",
     "output_type": "stream",
     "text": [
      "The Innomatics of Hawaii began using radio to send digital information as early as 1971,using ALOHAnet. \n",
      "Friedhelm Hillebrand conceptualised SMS in 1984 while working for Deutsche Telekom. Sitting at a typewriter at home, \n",
      "Hillebrand typed out random sentences and counted every letter, number, punctuation, and space. \n",
      "Almost every time, the messages contained fewer than 160 characters, thus giving the basis for the \n",
      "limit one could type via text messaging. With Bernard Ghillebaert of France Télécom, he developed \n",
      "a proposal for the GSM (Groupe Spécial Mobile) meeting in February 1985 in Oslo. \n",
      "The first technical solution evolved in a GSM subgroup under the leadership of Finn Trosby. \n",
      "It was further developed under the leadership of Kevin Holley and Ian Harris (see Short Message Service). \n",
      "SMS forms an integral part of SS7 (Signalling System No. 7). Under SS7, it is a \"state\" with a 160 character data, \n",
      "coded in the ITU-T \"T.56\" text format, that has a \"sequence lead in\" to determine different language codes, \n",
      "and may have special character codes that permits, for example, sending simple graphs as text. \n",
      "This was part of ISDN (Integrated Services Digital Network) and since GSM is based on this, \n",
      "made its way to the mobile phone. Messages could be sent and received on ISDN phones, \n",
      "and these can send SMS to any GSM phone. The possibility of doing something is one thing, \n",
      "implementing it another, but systems existed from 1988 that sent SMS messages to mobile phones (compare ND-NOTIS).\n"
     ]
    }
   ],
   "source": []
  },
  {
   "cell_type": "markdown",
   "metadata": {},
   "source": [
    "> `Question:`  Convert the \"text\" into sentances and store those into one variable called \"sentance\""
   ]
  },
  {
   "cell_type": "code",
   "execution_count": 53,
   "metadata": {},
   "outputs": [
    {
     "data": {
      "text/plain": [
       "['The University of Hawaii began using radio to send digital information as early as 1971,using ALOHAnet',\n",
       " ' \\nFriedhelm Hillebrand conceptualised SMS in 1984 while working for Deutsche Telekom',\n",
       " ' Sitting at a typewriter at home, \\nHillebrand typed out random sentences and counted every letter, number, punctuation, and space',\n",
       " ' \\nAlmost every time, the messages contained fewer than 160 characters, thus giving the basis for the \\nlimit one could type via text messaging',\n",
       " ' With Bernard Ghillebaert of France Télécom, he developed \\na proposal for the GSM (Groupe Spécial Mobile) meeting in February 1985 in Oslo',\n",
       " ' \\nThe first technical solution evolved in a GSM subgroup under the leadership of Finn Trosby',\n",
       " ' \\nIt was further developed under the leadership of Kevin Holley and Ian Harris (see Short Message Service)',\n",
       " ' \\nSMS forms an integral part of SS7 (Signalling System No',\n",
       " ' 7)',\n",
       " ' Under SS7, it is a \"state\" with a 160 character data, \\ncoded in the ITU-T \"T',\n",
       " '56\" text format, that has a \"sequence lead in\" to determine different language codes, \\nand may have special character codes that permits, for example, sending simple graphs as text',\n",
       " ' \\nThis was part of ISDN (Integrated Services Digital Network) and since GSM is based on this, \\nmade its way to the mobile phone',\n",
       " ' Messages could be sent and received on ISDN phones, \\nand these can send SMS to any GSM phone',\n",
       " ' The possibility of doing something is one thing, \\nimplementing it another, but systems existed from 1988 that sent SMS messages to mobile phones (compare ND-NOTIS)',\n",
       " '']"
      ]
     },
     "execution_count": 53,
     "metadata": {},
     "output_type": "execute_result"
    }
   ],
   "source": [
    "# CODE HERE\n",
    "a=text.strip()\n",
    "b=a.split(\".\")\n",
    "b"
   ]
  },
  {
   "cell_type": "code",
   "execution_count": 2,
   "metadata": {},
   "outputs": [
    {
     "data": {
      "text/plain": [
       "['The University of Hawaii began using radio to send digital information as early as 1971,using ALOHAnet',\n",
       " ' \\nFriedhelm Hillebrand conceptualised SMS in 1984 while working for Deutsche Telekom',\n",
       " ' Sitting at a typewriter at home, \\nHillebrand typed out random sentences and counted every letter, number, punctuation, and space',\n",
       " ' \\nAlmost every time, the messages contained fewer than 160 characters, thus giving the basis for the \\nlimit one could type via text messaging',\n",
       " ' With Bernard Ghillebaert of France Télécom, he developed \\na proposal for the GSM (Groupe Spécial Mobile) meeting in February 1985 in Oslo',\n",
       " ' \\nThe first technical solution evolved in a GSM subgroup under the leadership of Finn Trosby',\n",
       " ' \\nIt was further developed under the leadership of Kevin Holley and Ian Harris (see Short Message Service)',\n",
       " ' \\nSMS forms an integral part of SS7 (Signalling System No',\n",
       " ' 7)',\n",
       " ' Under SS7, it is a \"state\" with a 160 character data, \\ncoded in the ITU-T \"T',\n",
       " '56\" text format, that has a \"sequence lead in\" to determine different language codes, \\nand may have special character codes that permits, for example, sending simple graphs as text',\n",
       " ' \\nThis was part of ISDN (Integrated Services Digital Network) and since GSM is based on this, \\nmade its way to the mobile phone',\n",
       " ' Messages could be sent and received on ISDN phones, \\nand these can send SMS to any GSM phone',\n",
       " ' The possibility of doing something is one thing, \\nimplementing it another, but systems existed from 1988 that sent SMS messages to mobile phones (compare ND-NOTIS)',\n",
       " '']"
      ]
     },
     "execution_count": 2,
     "metadata": {},
     "output_type": "execute_result"
    }
   ],
   "source": []
  },
  {
   "cell_type": "markdown",
   "metadata": {},
   "source": [
    " `Question:`\n",
    " \n",
    "> 1.From the above sentance remove '\\n'\n"
   ]
  },
  {
   "cell_type": "code",
   "execution_count": 73,
   "metadata": {},
   "outputs": [
    {
     "data": {
      "text/plain": [
       "['The University of Hawaii began using radio to send digital information as early as 1971,using ALOHAnet',\n",
       " ' Friedhelm Hillebrand conceptualised SMS in 1984 while working for Deutsche Telekom',\n",
       " 'Sitting at a typewriter at home,  Hillebrand typed out random sentences and counted every letter, number, punctuation, and space',\n",
       " ' Almost every time, the messages contained fewer than 160 characters, thus giving the basis for the  limit one could type via text messaging',\n",
       " 'With Bernard Ghillebaert of France Télécom, he developed  a proposal for the GSM (Groupe Spécial Mobile) meeting in February 1985 in Oslo',\n",
       " ' The first technical solution evolved in a GSM subgroup under the leadership of Finn Trosby',\n",
       " ' It was further developed under the leadership of Kevin Holley and Ian Harris (see Short Message Service)',\n",
       " ' SMS forms an integral part of SS7 (Signalling System No',\n",
       " '7)',\n",
       " 'Under SS7, it is a \"state\" with a 160 character data,  coded in the ITU-T \"T.56\" text format, that has a \"sequence lead in\" to determine different language codes,  and may have special character codes that permits, for example, sending simple graphs as text',\n",
       " ' This was part of ISDN (Integrated Services Digital Network) and since GSM is based on this,  made its way to the mobile phone',\n",
       " 'Messages could be sent and received on ISDN phones,  and these can send SMS to any GSM phone',\n",
       " 'The possibility of doing something is one thing,  implementing it another, but systems existed from 1988 that sent SMS messages to mobile phones (compare ND-NOTIS).']"
      ]
     },
     "execution_count": 73,
     "metadata": {},
     "output_type": "execute_result"
    }
   ],
   "source": [
    "z=text.replace(\"\\n\",\" \")\n",
    "z.split(\". \")\n",
    "y = z.split(\". \")\n",
    "y\n"
   ]
  },
  {
   "cell_type": "markdown",
   "metadata": {},
   "source": [
    " > 2. From the above sentace print the first word from each sentance\n"
   ]
  },
  {
   "cell_type": "code",
   "execution_count": 65,
   "metadata": {},
   "outputs": [
    {
     "name": "stdout",
     "output_type": "stream",
     "text": [
      "The\n",
      "\n",
      "Friedhelm\n",
      "Sitting\n",
      "\n",
      "Almost\n",
      "With\n",
      "\n",
      "The\n",
      "\n",
      "It\n",
      "\n",
      "SMS\n",
      "7)\n",
      "Under\n",
      "\n",
      "This\n",
      "Messages\n",
      "The\n"
     ]
    }
   ],
   "source": [
    "for i in text.split('. '):\n",
    "    y=i.split(\" \")\n",
    "    print(y[0])\n",
    "    \n",
    "    \n",
    "    "
   ]
  },
  {
   "cell_type": "markdown",
   "metadata": {},
   "source": [
    "> 3. From the above sentace print even posioned sentances"
   ]
  },
  {
   "cell_type": "code",
   "execution_count": 75,
   "metadata": {},
   "outputs": [
    {
     "name": "stdout",
     "output_type": "stream",
     "text": [
      "[' Friedhelm Hillebrand conceptualised SMS in 1984 while working for Deutsche Telekom', ' Almost every time, the messages contained fewer than 160 characters, thus giving the basis for the  limit one could type via text messaging', ' The first technical solution evolved in a GSM subgroup under the leadership of Finn Trosby', ' SMS forms an integral part of SS7 (Signalling System No', 'Under SS7, it is a \"state\" with a 160 character data,  coded in the ITU-T \"T.56\" text format, that has a \"sequence lead in\" to determine different language codes,  and may have special character codes that permits, for example, sending simple graphs as text', 'Messages could be sent and received on ISDN phones,  and these can send SMS to any GSM phone']\n"
     ]
    }
   ],
   "source": [
    "type(y)\n",
    "print(y[1:len(y):2])\n"
   ]
  },
  {
   "cell_type": "markdown",
   "metadata": {},
   "source": [
    ">   `Question:` If the following string is given as input to the program:\n",
    "\n",
    "- H1e2l3l4o5w6o7r8l9d\n",
    "\n",
    ">   `Output:`  Then, the output of the program should be:\n",
    "\n",
    "- Helloworld"
   ]
  },
  {
   "cell_type": "code",
   "execution_count": 60,
   "metadata": {},
   "outputs": [
    {
     "data": {
      "text/plain": [
       "'Helloworld'"
      ]
     },
     "execution_count": 60,
     "metadata": {},
     "output_type": "execute_result"
    }
   ],
   "source": [
    "# CODE HERE\n",
    "a = \"H1e2l3l4o5w6o7r8l9d\"\n",
    "b = a[0::2]\n",
    "b"
   ]
  },
  {
   "cell_type": "markdown",
   "metadata": {},
   "source": [
    "# [Innomatics Research Labs](https:/innomatics.in/)\n",
    "[www.innomatics.in](https:/innomatics.in/)"
   ]
  },
  {
   "cell_type": "code",
   "execution_count": null,
   "metadata": {},
   "outputs": [],
   "source": []
  },
  {
   "cell_type": "code",
   "execution_count": null,
   "metadata": {},
   "outputs": [],
   "source": []
  },
  {
   "cell_type": "code",
   "execution_count": null,
   "metadata": {},
   "outputs": [],
   "source": []
  }
 ],
 "metadata": {
  "kernelspec": {
   "display_name": "Python 3 (ipykernel)",
   "language": "python",
   "name": "python3"
  },
  "language_info": {
   "codemirror_mode": {
    "name": "ipython",
    "version": 3
   },
   "file_extension": ".py",
   "mimetype": "text/x-python",
   "name": "python",
   "nbconvert_exporter": "python",
   "pygments_lexer": "ipython3",
   "version": "3.9.13"
  }
 },
 "nbformat": 4,
 "nbformat_minor": 2
}
