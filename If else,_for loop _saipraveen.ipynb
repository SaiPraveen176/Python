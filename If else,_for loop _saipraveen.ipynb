{
 "cells": [
  {
   "cell_type": "markdown",
   "metadata": {},
   "source": [
    "# IF , ELSE.... FOR LOOP"
   ]
  },
  {
   "cell_type": "markdown",
   "metadata": {},
   "source": [
    "> print this is hour in current minute is odd"
   ]
  },
  {
   "cell_type": "code",
   "execution_count": 5,
   "metadata": {},
   "outputs": [
    {
     "name": "stdout",
     "output_type": "stream",
     "text": [
      "enter the minute:53\n",
      "Odd Value\n"
     ]
    }
   ],
   "source": [
    "#CODE HERE\n",
    "num = int(input(\"enter the minute:\"))\n",
    "\n",
    "if num%2!=0:\n",
    "    print(\"Odd Value\")\n",
    "else:\n",
    "    print(\"even value\")"
   ]
  },
  {
   "cell_type": "markdown",
   "metadata": {},
   "source": [
    "> if today is satarday then print 'Party !!!' or if sunday print take rest other wise print work , work, work"
   ]
  },
  {
   "cell_type": "code",
   "execution_count": 11,
   "metadata": {},
   "outputs": [
    {
     "name": "stdout",
     "output_type": "stream",
     "text": [
      "enter the day:saturday\n",
      "Party!!!\n"
     ]
    }
   ],
   "source": [
    "#CODE HERE\n",
    "day= (input(\"enter the day:\"))\n",
    "day=day.upper()\n",
    "if day==\"SUNDAY\":\n",
    "    print(\"Take Rest\")\n",
    "elif day ==\"SATURDAY\":\n",
    "    print(\"Party!!!\")\n",
    "else:\n",
    "    print(\"working Day\")"
   ]
  },
  {
   "cell_type": "markdown",
   "metadata": {},
   "source": [
    "> Write a program which will find all such numbers which are divisible by 7 but are not a multiple of 5, between 2000 and 3200 (both included). The numbers obtained should be printed in a comma-separated sequence on a single line."
   ]
  },
  {
   "cell_type": "code",
   "execution_count": 30,
   "metadata": {},
   "outputs": [
    {
     "name": "stdout",
     "output_type": "stream",
     "text": [
      "2002,2009,2016,2023,2037,2044,2051,2058,2072,2079,2086,2093,2107,2114,2121,2128,2142,2149,2156,2163,2177,2184,2191,2198,2212,2219,2226,2233,2247,2254,2261,2268,2282,2289,2296,2303,2317,2324,2331,2338,2352,2359,2366,2373,2387,2394,2401,2408,2422,2429,2436,2443,2457,2464,2471,2478,2492,2499,2506,2513,2527,2534,2541,2548,2562,2569,2576,2583,2597,2604,2611,2618,2632,2639,2646,2653,2667,2674,2681,2688,2702,2709,2716,2723,2737,2744,2751,2758,2772,2779,2786,2793,2807,2814,2821,2828,2842,2849,2856,2863,2877,2884,2891,2898,2912,2919,2926,2933,2947,2954,2961,2968,2982,2989,2996,3003,3017,3024,3031,3038,3052,3059,3066,3073,3087,3094,3101,3108,3122,3129,3136,3143,3157,3164,3171,3178,3192,3199\n"
     ]
    }
   ],
   "source": [
    "#CODE HERE\n",
    "num=[]\n",
    "for i in range(2000,3201):\n",
    "    if (i%7==0) & (i%5!=0):\n",
    "        num.append(str(i))\n",
    "print(\",\".join(num))"
   ]
  },
  {
   "cell_type": "code",
   "execution_count": 14,
   "metadata": {},
   "outputs": [
    {
     "name": "stdout",
     "output_type": "stream",
     "text": [
      "2002,2009,2016,2023,2037,2044,2051,2058,2072,2079,2086,2093,2107,2114,2121,2128,2142,2149,2156,2163,2177,2184,2191,2198,2212,2219,2226,2233,2247,2254,2261,2268,2282,2289,2296,2303,2317,2324,2331,2338,2352,2359,2366,2373,2387,2394,2401,2408,2422,2429,2436,2443,2457,2464,2471,2478,2492,2499,2506,2513,2527,2534,2541,2548,2562,2569,2576,2583,2597,2604,2611,2618,2632,2639,2646,2653,2667,2674,2681,2688,2702,2709,2716,2723,2737,2744,2751,2758,2772,2779,2786,2793,2807,2814,2821,2828,2842,2849,2856,2863,2877,2884,2891,2898,2912,2919,2926,2933,2947,2954,2961,2968,2982,2989,2996,3003,3017,3024,3031,3038,3052,3059,3066,3073,3087,3094,3101,3108,3122,3129,3136,3143,3157,3164,3171,3178,3192,3199\n"
     ]
    }
   ],
   "source": [
    "#CODE HERE"
   ]
  },
  {
   "cell_type": "markdown",
   "metadata": {},
   "source": [
    "> Write a program which can compute the factorial of a given numbers.\n",
    "The results should be printed in a comma-separated sequence on a single line.\n",
    "Suppose the following input is supplied to the program:\n",
    "8\n",
    "Then, the output should be:\n",
    "40320"
   ]
  },
  {
   "cell_type": "code",
   "execution_count": 35,
   "metadata": {},
   "outputs": [
    {
     "name": "stdout",
     "output_type": "stream",
     "text": [
      "enter the value:8\n"
     ]
    },
    {
     "data": {
      "text/plain": [
       "40320"
      ]
     },
     "execution_count": 35,
     "metadata": {},
     "output_type": "execute_result"
    }
   ],
   "source": [
    "#CODE HERE\n",
    "num=int(input(\"enter the value:\"))\n",
    "fact=1\n",
    "for i in range(1,num+1):\n",
    "    fact*=i\n",
    "fact"
   ]
  },
  {
   "cell_type": "markdown",
   "metadata": {},
   "source": [
    "> With a given integral number n, write a program to generate a dictionary that contains (i, i*i) such that is an integral number between 1 and n (both included). and then the program should print the dictionary.\n",
    "Suppose the following input is supplied to the program:\n",
    "8\n",
    "Then, the output should be:\n",
    "{1: 1, 2: 4, 3: 9, 4: 16, 5: 25, 6: 36, 7: 49, 8: 64}\n",
    "\n",
    "*Hint* : use dict()"
   ]
  },
  {
   "cell_type": "code",
   "execution_count": 16,
   "metadata": {},
   "outputs": [
    {
     "name": "stdout",
     "output_type": "stream",
     "text": [
      "Enter the value: 8\n",
      "{1: 1, 2: 4, 3: 9, 4: 16, 5: 25, 6: 36, 7: 49, 8: 64}\n"
     ]
    }
   ],
   "source": [
    "#CODE HERE\n"
   ]
  },
  {
   "cell_type": "code",
   "execution_count": 37,
   "metadata": {},
   "outputs": [
    {
     "name": "stdout",
     "output_type": "stream",
     "text": [
      "enter the number:8\n",
      "{1: 1, 2: 4, 3: 9, 4: 16, 5: 25, 6: 36, 7: 49, 8: 64}\n"
     ]
    }
   ],
   "source": [
    "n=int(input(\"enter the number:\"))\n",
    "d=dict()\n",
    "for i in range(1,n+1):\n",
    "    d[i]=i*i\n",
    "print(d)\n"
   ]
  },
  {
   "cell_type": "markdown",
   "metadata": {},
   "source": [
    "> create user defined fuction for \n",
    "- addition \"add\"\n",
    "- subtraction \"sub\"\n",
    "- multiplication \"mul\"\n",
    "- division \"div\"\n",
    "- power \"pow\""
   ]
  },
  {
   "cell_type": "code",
   "execution_count": 18,
   "metadata": {},
   "outputs": [
    {
     "name": "stdout",
     "output_type": "stream",
     "text": [
      "Please enter the value : 8\n",
      "Please enter the value : 6\n",
      "Enter the keyword {add, sub, mul, div, pow}:pow\n",
      "==============================\n",
      "Power of 8 by 6 is : 262144\n"
     ]
    }
   ],
   "source": [
    "#CODE HERE"
   ]
  },
  {
   "cell_type": "code",
   "execution_count": 38,
   "metadata": {},
   "outputs": [
    {
     "name": "stdout",
     "output_type": "stream",
     "text": [
      "Please enter the value :8\n",
      "Please enter the value :6\n",
      "Enterthekeyword= {add, sub, mul, div, pow}:pow\n",
      "==============================\n",
      "pow of 8 by 6 is: 262144\n"
     ]
    }
   ],
   "source": [
    "l=int(input(\"Please enter the value :\"))\n",
    "k=int(input(\"Please enter the value :\"))\n",
    "\n",
    "n=input(\"Enterthekeyword= {add, sub, mul, div, pow}:\")\n",
    "print(\"==============================\")\n",
    "if n==\"add\":\n",
    "    print(\"add of\",l,\"by\",k,\"is:\",l+k)\n",
    "elif n==\"sub\":\n",
    "    print(\"sub of\",l,\"by\",k,\"is:\",l-k)\n",
    "elif n==\"mul\":\n",
    "    print(\"mul of\",l,\"by\",k,\"is:\",l*k)\n",
    "elif n==\"div\":\n",
    "    print(\"div of\",l,\"by\",k,\"is:\",l/k)\n",
    "elif n==\"pow\":\n",
    "    print(\"pow of\",l,\"by\",k,\"is:\",l**k)\n",
    "else:\n",
    "    print(\"not valid\")\n",
    "\n"
   ]
  },
  {
   "cell_type": "markdown",
   "metadata": {},
   "source": [
    "### Write a Python program that accepts a string and calculate the number of digits and letters.\n",
    "- Input\n",
    "\n",
    "    - Hello321Bye360\n",
    "- Output\n",
    "\n",
    "    - Digit - 6\n",
    "\n",
    "    - Letter - 8"
   ]
  },
  {
   "cell_type": "code",
   "execution_count": 45,
   "metadata": {},
   "outputs": [
    {
     "name": "stdout",
     "output_type": "stream",
     "text": [
      "Enter the text: Hello321Bye360\n",
      "digit 6\n",
      "letter 8\n"
     ]
    }
   ],
   "source": [
    "# CODE HERE\n",
    "word = input(\"Enter the text: \")\n",
    "d=0\n",
    "l=0\n",
    "for i in word:\n",
    "    if i.isnumeric():\n",
    "        d +=1\n",
    "    else:\n",
    "        l +=1\n",
    "print(\"digit\",d)\n",
    "print(\"letter\",l)\n"
   ]
  },
  {
   "cell_type": "markdown",
   "metadata": {},
   "source": [
    "### With a given tuple (1,2,3,4,5,6,7,8,9,10), write a program to print the first half values in one line and the last half values in one line."
   ]
  },
  {
   "cell_type": "code",
   "execution_count": 48,
   "metadata": {},
   "outputs": [
    {
     "name": "stdout",
     "output_type": "stream",
     "text": [
      "(1, 2, 3, 4, 5)\n",
      "(6, 7, 8, 9, 10)\n"
     ]
    }
   ],
   "source": [
    "# METHOD - 1\n",
    "a=(1,2,3,4,5,6,7,8,9,10)\n",
    "a1=(a[0:5])\n",
    "a2=(a[5:])\n",
    "print(a1)\n",
    "print(a2)\n"
   ]
  },
  {
   "cell_type": "code",
   "execution_count": 57,
   "metadata": {},
   "outputs": [
    {
     "name": "stdout",
     "output_type": "stream",
     "text": [
      "1 2 3 4 5 \n",
      "6 7 8 9 10 "
     ]
    }
   ],
   "source": [
    "# METHOD - 2\n",
    "for i in range(0,5):\n",
    "    print(a[i],end = ' ')\n",
    "print()\n",
    "for i in range(5,10):\n",
    "    print(a[i],end = ' ')\n"
   ]
  },
  {
   "cell_type": "code",
   "execution_count": 53,
   "metadata": {},
   "outputs": [
    {
     "name": "stdout",
     "output_type": "stream",
     "text": [
      "[1, 2, 3, 4, 5]\n",
      "[6, 7, 8, 9, 10]\n"
     ]
    }
   ],
   "source": [
    "# METHOD - 3\n",
    "l1 = []\n",
    "l2=[]\n",
    "\n",
    "for i in range(0,5):\n",
    "    l1.append(a[i])\n",
    "\n",
    "for i in range(5,10):\n",
    "    l2.append(a[i])\n",
    "\n",
    "print(l1)\n",
    "print(l2)"
   ]
  },
  {
   "cell_type": "markdown",
   "metadata": {},
   "source": [
    "### Write a program to generate and print another tuple whose values are even numbers in the given tuple (1,2,3,4,5,6,7,8,9,10)"
   ]
  },
  {
   "cell_type": "code",
   "execution_count": 64,
   "metadata": {},
   "outputs": [
    {
     "name": "stdout",
     "output_type": "stream",
     "text": [
      "(2, 4, 6, 8, 10)\n"
     ]
    }
   ],
   "source": [
    "t=(1,2,3,4,5,6,7,8,9,10)\n",
    "a=list(t)\n",
    "l=[]\n",
    "for i in a:\n",
    "    if i%2==0:\n",
    "        l.append(i)\n",
    "print(tuple(l))"
   ]
  },
  {
   "cell_type": "markdown",
   "metadata": {},
   "source": [
    "### Write a program which accepts a string as input to print \"Yes\" if the string is \"yes\" or \"YES\" or \"Yes\", otherwise print \"No\""
   ]
  },
  {
   "cell_type": "code",
   "execution_count": 65,
   "metadata": {},
   "outputs": [
    {
     "name": "stdout",
     "output_type": "stream",
     "text": [
      "Please type something. --> yEs\n",
      "No\n"
     ]
    }
   ],
   "source": [
    "text = input(\"Please type something. --> \")\n",
    "if text==\"yes\" or text==\"YES\" or text==\"Yes\":\n",
    "    print (\"Yes\")\n",
    "else:\n",
    "    print (\"No\")"
   ]
  },
  {
   "cell_type": "markdown",
   "metadata": {},
   "source": [
    "### Please write a program to generate a list with 5 random numbers between 100 and 200 inclusive."
   ]
  },
  {
   "cell_type": "code",
   "execution_count": 71,
   "metadata": {},
   "outputs": [
    {
     "name": "stdout",
     "output_type": "stream",
     "text": [
      "[195, 179, 171, 189, 191]\n"
     ]
    }
   ],
   "source": [
    "import random\n",
    "l=[]\n",
    "n=5\n",
    "for i in range(n):\n",
    "    l.append(random.randint(100,200))\n",
    "print(l)\n"
   ]
  },
  {
   "cell_type": "markdown",
   "metadata": {},
   "source": [
    "### Please generate a random float where the value is between 5 and 95 using Python module."
   ]
  },
  {
   "cell_type": "code",
   "execution_count": 1,
   "metadata": {},
   "outputs": [
    {
     "name": "stdout",
     "output_type": "stream",
     "text": [
      "80.05722803793232\n"
     ]
    }
   ],
   "source": [
    "import random\n",
    "print (random.random()*95-5)"
   ]
  },
  {
   "cell_type": "code",
   "execution_count": 2,
   "metadata": {},
   "outputs": [
    {
     "name": "stdout",
     "output_type": "stream",
     "text": [
      "18.51555962107424\n"
     ]
    }
   ],
   "source": [
    "import random\n",
    "a=random.uniform(5,95)\n",
    "print(a)"
   ]
  },
  {
   "cell_type": "markdown",
   "metadata": {},
   "source": [
    "### [1,1,1,1,3,3,4,4,4,5,6,7,8,8,8]\n",
    "#### 1. from the above list print the uniques values\n",
    "#### 2. count how many times each number exist\n",
    "#### 3. Print the number which is occured more number of times"
   ]
  },
  {
   "cell_type": "code",
   "execution_count": 90,
   "metadata": {},
   "outputs": [
    {
     "data": {
      "text/plain": [
       "[1, 3, 4, 5, 6, 7, 8]"
      ]
     },
     "execution_count": 90,
     "metadata": {},
     "output_type": "execute_result"
    }
   ],
   "source": [
    "a= [1,1,1,1,3,3,4,4,4,5,6,7,8,8,8]\n",
    "b=set(a)\n",
    "c=list(b)\n",
    "c"
   ]
  },
  {
   "cell_type": "code",
   "execution_count": 93,
   "metadata": {},
   "outputs": [
    {
     "name": "stdout",
     "output_type": "stream",
     "text": [
      "repeated 1: 4\n",
      "repeated 3: 2\n",
      "repeated 4: 3\n",
      "repeated 5: 1\n",
      "repeated 6: 1\n",
      "repeated 7: 1\n",
      "repeated 8: 3\n"
     ]
    }
   ],
   "source": [
    "print(\"repeated 1:\",a.count(1))\n",
    "print(\"repeated 3:\",a.count(3))\n",
    "print(\"repeated 4:\",a.count(4))\n",
    "print(\"repeated 5:\",a.count(5))\n",
    "print(\"repeated 6:\",a.count(6))\n",
    "print(\"repeated 7:\",a.count(7))\n",
    "print(\"repeated 8:\",a.count(8))\n",
    "\n",
    "\n"
   ]
  },
  {
   "cell_type": "code",
   "execution_count": null,
   "metadata": {},
   "outputs": [],
   "source": []
  },
  {
   "cell_type": "markdown",
   "metadata": {},
   "source": [
    "# [Innomatics Research Labs](https:/innomatics.in/)\n",
    "[www.innomatics.in](https:/innomatics.in/)"
   ]
  },
  {
   "cell_type": "code",
   "execution_count": null,
   "metadata": {},
   "outputs": [],
   "source": []
  }
 ],
 "metadata": {
  "kernelspec": {
   "display_name": "Python 3 (ipykernel)",
   "language": "python",
   "name": "python3"
  },
  "language_info": {
   "codemirror_mode": {
    "name": "ipython",
    "version": 3
   },
   "file_extension": ".py",
   "mimetype": "text/x-python",
   "name": "python",
   "nbconvert_exporter": "python",
   "pygments_lexer": "ipython3",
   "version": "3.9.13"
  }
 },
 "nbformat": 4,
 "nbformat_minor": 2
}
