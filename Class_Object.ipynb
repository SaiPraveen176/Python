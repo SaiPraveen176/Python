{
 "cells": [
  {
   "cell_type": "code",
   "execution_count": null,
   "metadata": {
    "id": "gXQ_OQjp_ajF"
   },
   "outputs": [],
   "source": []
  },
  {
   "cell_type": "markdown",
   "metadata": {
    "id": "UlTyvTnVDRXI"
   },
   "source": [
    "## 1. Create Python class named `Student` and display its type"
   ]
  },
  {
   "cell_type": "code",
   "execution_count": 2,
   "metadata": {},
   "outputs": [
    {
     "name": "stdout",
     "output_type": "stream",
     "text": [
      "<class 'type'>\n"
     ]
    }
   ],
   "source": [
    "# CODE HERE\n",
    "class Student:...\n",
    "\n",
    "print(type(Student))"
   ]
  },
  {
   "cell_type": "code",
   "execution_count": null,
   "metadata": {
    "colab": {
     "base_uri": "https://localhost:8080/"
    },
    "id": "DCcHnvOSDU9N",
    "outputId": "bc177e1e-656f-4a02-ab9f-a47693dbfdcc"
   },
   "outputs": [
    {
     "name": "stdout",
     "output_type": "stream",
     "text": [
      "<class 'type'>\n"
     ]
    }
   ],
   "source": []
  },
  {
   "cell_type": "markdown",
   "metadata": {
    "id": "nYjL6Efcx6ad"
   },
   "source": [
    "## 2. How to call a variable and function by creating a simple class\n"
   ]
  },
  {
   "cell_type": "code",
   "execution_count": null,
   "metadata": {
    "colab": {
     "base_uri": "https://localhost:8080/"
    },
    "id": "2cVJl1pTyQtS",
    "outputId": "a490e4f4-11a8-44e4-fc4d-5fefcab06e34"
   },
   "outputs": [
    {
     "name": "stdout",
     "output_type": "stream",
     "text": [
      "This is Variable1\n",
      "I'm from function This is Variable1\n"
     ]
    }
   ],
   "source": [
    "class Dog:\n",
    "    a= \"this a variable\"\n",
    "    def animal(self):\n",
    "        print(\"I'm from function{}\".format(self.a))\n",
    "\n",
    "        \n",
    "    \n",
    "    \n",
    "     #CODE HERE"
   ]
  },
  {
   "cell_type": "markdown",
   "metadata": {
    "id": "Qrn6EsJ7putu"
   },
   "source": [
    "## 3. Create a class with one `static variable` and two `instace variables`"
   ]
  },
  {
   "cell_type": "code",
   "execution_count": 18,
   "metadata": {
    "colab": {
     "base_uri": "https://localhost:8080/"
    },
    "id": "D5z1cympyQwS",
    "outputId": "83f642f9-4867-498f-b8b7-6b39101339f7"
   },
   "outputs": [
    {
     "name": "stdout",
     "output_type": "stream",
     "text": [
      "Im a static variable\n",
      "instance_var1\n",
      "instance_var2\n"
     ]
    }
   ],
   "source": [
    "class Demo():\n",
    "    static=\"Im a static variable\"\n",
    "    def __init__(self,a,b):\n",
    "        self.a=a\n",
    "        self.b=b\n",
    "d=Demo(\"instance_var1\",\"instance_var2\")\n",
    "print(d.static)\n",
    "print(d.a)\n",
    "print(d.b)\n",
    "    \n",
    "    \n",
    "#CODE HERE"
   ]
  },
  {
   "cell_type": "markdown",
   "metadata": {
    "id": "m2__2x3B_gub"
   },
   "source": [
    "## 4. Create a `Vehicle` class with max_speed and mileage instance attributes"
   ]
  },
  {
   "cell_type": "code",
   "execution_count": null,
   "metadata": {
    "id": "4M2ggFoC_hqV"
   },
   "outputs": [],
   "source": [
    "# CODE HERE"
   ]
  },
  {
   "cell_type": "code",
   "execution_count": 20,
   "metadata": {
    "colab": {
     "base_uri": "https://localhost:8080/"
    },
    "id": "uTyOnoPN_qVJ",
    "outputId": "e4ed0414-9da1-4196-a802-41b39f455a3f"
   },
   "outputs": [
    {
     "name": "stdout",
     "output_type": "stream",
     "text": [
      "240 18\n"
     ]
    }
   ],
   "source": [
    "class Vehicle:\n",
    "    def __init__(self,max_speed,mileage):\n",
    "        self.max_speed=max_speed\n",
    "        self.mileage=mileage\n",
    "d=Vehicle(240,18)\n",
    "print(d.max_speed,d.mileage)\n",
    "\n",
    "    \n",
    "    #CODE HERE"
   ]
  },
  {
   "cell_type": "code",
   "execution_count": null,
   "metadata": {
    "id": "_Pq79YB0_rF2"
   },
   "outputs": [],
   "source": []
  },
  {
   "cell_type": "markdown",
   "metadata": {
    "id": "dGGYG_Sm1N4y"
   },
   "source": [
    "## 5. Create a simple class `Person` with constructer and one argument `name`"
   ]
  },
  {
   "cell_type": "code",
   "execution_count": null,
   "metadata": {
    "id": "zkAdBgQP1bNW"
   },
   "outputs": [],
   "source": [
    "# CODE HERE"
   ]
  },
  {
   "cell_type": "code",
   "execution_count": 13,
   "metadata": {
    "colab": {
     "base_uri": "https://localhost:8080/"
    },
    "id": "i5vQQoIu0X_f",
    "outputId": "2b8f7cd2-cb9d-43f2-afdf-8f20411ef6cc"
   },
   "outputs": [
    {
     "name": "stdout",
     "output_type": "stream",
     "text": [
      "hello my name is Ram\n"
     ]
    }
   ],
   "source": [
    "# A Sample class with init method\n",
    "class Person:\n",
    "    def __init__(self,a):\n",
    "        self.a=a\n",
    "    def say_hi(self):\n",
    "         print(\"hello my name is {}\".format(self.a))\n",
    "   \n",
    "    #CODE HERE\n",
    "   \n",
    "p = Person('Ram')\n",
    "p.say_hi()"
   ]
  },
  {
   "cell_type": "code",
   "execution_count": null,
   "metadata": {
    "id": "JgeHHyrp2h1u"
   },
   "outputs": [],
   "source": []
  },
  {
   "cell_type": "markdown",
   "metadata": {
    "id": "T9AQ6X3i2k6l"
   },
   "source": [
    "## 6. Create a class for `Students` information like `name, rollno, marks` and `school name` with static variable.\n",
    "- create a function for displaying student information\n",
    "- create one more function for getting students marks and percentage "
   ]
  },
  {
   "cell_type": "code",
   "execution_count": 31,
   "metadata": {
    "colab": {
     "base_uri": "https://localhost:8080/"
    },
    "id": "cX4Z5_nx2h-O",
    "outputId": "5e032c7a-407b-455b-aef3-84b673a017ae"
   },
   "outputs": [
    {
     "name": "stdout",
     "output_type": "stream",
     "text": [
      "name:abc,rollno:1,marks:399,clg_name:DIT\n",
      "Dictionary: {'name': 'abc', 'rollno': 1, 'marks': 399}\n",
      "percentages of 399 out of 500 is 79.80000000000001\n"
     ]
    }
   ],
   "source": [
    "class Student:\n",
    "\n",
    "    def __init__(self,name,rollno,marks,clg_name):\n",
    "        self.name=name\n",
    "        self.rollno=rollno\n",
    "        self.marks=marks\n",
    "        self.clg_name=clg_name\n",
    "        \n",
    "    def stud_info(self):\n",
    "        print('name:{},rollno:{},marks:{},clg_name:{}'.format(self.name,self.rollno,self.marks,self.clg_name))\n",
    "        \n",
    "    def Percentage(self):\n",
    "        total_marks=500\n",
    "        percentage=(self.marks/total_marks)*100\n",
    "        stud={\"name\":student.name,\"rollno\":student.rollno,\"marks\":student.marks}\n",
    "        print(\"Dictionary:\",stud)\n",
    "        print(\"percentages of {} out of {} is {}\".format(self.marks,total_marks,percentage))\n",
    "    \n",
    "student= Student('abc',1,399,\"DIT\")\n",
    "student.stud_info()\n",
    "student.Percentage()"
   ]
  },
  {
   "cell_type": "markdown",
   "metadata": {
    "id": "x-zGvkOi_9PD"
   },
   "source": [
    "## 7. Create a child class `Bus` that will inherit all of the variables and methods of the `Vehicle` class"
   ]
  },
  {
   "cell_type": "code",
   "execution_count": null,
   "metadata": {
    "id": "5IppTc73__tp"
   },
   "outputs": [],
   "source": [
    "# CODE HERE"
   ]
  },
  {
   "cell_type": "code",
   "execution_count": 29,
   "metadata": {
    "colab": {
     "base_uri": "https://localhost:8080/"
    },
    "id": "Qf4ZRcg8ADOq",
    "outputId": "36f05d4e-d177-4b0a-f60d-85df44b22756"
   },
   "outputs": [
    {
     "name": "stdout",
     "output_type": "stream",
     "text": [
      "Vehical name: school Bus Speed: 180 Mileage: 12\n"
     ]
    }
   ],
   "source": [
    "class Vehicle:\n",
    "    def __init__(self,name,max_speed,mileage):\n",
    "        self.name=name\n",
    "        self.max_speed=max_speed\n",
    "        self.mileage=mileage\n",
    "class Bus(Vehicle):\n",
    "    def __init__(self,name,max_speed,mileage):\n",
    "        super().__init__(name,max_speed,mileage)\n",
    "\n",
    "school_Bus=Bus(\"school\",180,12)\n",
    "print(\"Vehical name:\",school_Bus.name,\"Bus Speed:\",school_Bus.max_speed,\"Mileage:\",school_Bus.mileage)\n"
   ]
  },
  {
   "cell_type": "markdown",
   "metadata": {
    "id": "Cex1VHlicvR0"
   },
   "source": [
    "## 8. Create a class `Employee` with two arguments `name and salary`\n",
    "- create a function which displays the employee information\n",
    "- Print total number of employees "
   ]
  },
  {
   "cell_type": "code",
   "execution_count": 10,
   "metadata": {
    "colab": {
     "base_uri": "https://localhost:8080/"
    },
    "id": "BcTNOVUiAIn7",
    "outputId": "eada07d0-cb16-4b0c-bdca-a1b360ad24b7"
   },
   "outputs": [
    {
     "name": "stdout",
     "output_type": "stream",
     "text": [
      "Name :  Zara , Salary:  2000\n",
      "Name :  Manni , Salary:  5000\n",
      "Total Employee 2\n"
     ]
    }
   ],
   "source": []
  },
  {
   "cell_type": "code",
   "execution_count": 3,
   "metadata": {
    "id": "BmFF6kFScPGl"
   },
   "outputs": [
    {
     "name": "stdout",
     "output_type": "stream",
     "text": [
      "name : ZARA,salary : 2000\n",
      "name : MANNI,salary : 5000\n",
      "total employee 2\n"
     ]
    }
   ],
   "source": [
    "class Employee:\n",
    "    total_emp = 0\n",
    "    def __init__(self,name,salary):\n",
    "        self.name=name\n",
    "        self.salary=salary\n",
    "        Employee.total_emp +=1\n",
    "        \n",
    "    def display(self):\n",
    "        print(f'name : {self.name},salary : {self.salary}')\n",
    "\n",
    "E1 = Employee(\"ZARA\",2000)\n",
    "E2 = Employee(\"MANNI\",5000)\n",
    "E1.display()\n",
    "E2.display()\n",
    "print(\"total employee\",Employee.total_emp)\n",
    "        \n",
    "    \n",
    "        \n",
    "           \n",
    "   "
   ]
  },
  {
   "cell_type": "code",
   "execution_count": null,
   "metadata": {},
   "outputs": [],
   "source": []
  }
 ],
 "metadata": {
  "colab": {
   "collapsed_sections": [],
   "name": "Class_Object_Asignment.ipynb",
   "provenance": []
  },
  "kernelspec": {
   "display_name": "Python 3 (ipykernel)",
   "language": "python",
   "name": "python3"
  },
  "language_info": {
   "codemirror_mode": {
    "name": "ipython",
    "version": 3
   },
   "file_extension": ".py",
   "mimetype": "text/x-python",
   "name": "python",
   "nbconvert_exporter": "python",
   "pygments_lexer": "ipython3",
   "version": "3.9.13"
  }
 },
 "nbformat": 4,
 "nbformat_minor": 1
}
