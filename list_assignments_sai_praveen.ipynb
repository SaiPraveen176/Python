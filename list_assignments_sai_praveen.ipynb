{
 "cells": [
  {
   "cell_type": "code",
   "execution_count": 5,
   "id": "4a42ead0",
   "metadata": {},
   "outputs": [
    {
     "name": "stdout",
     "output_type": "stream",
     "text": [
      "sum of items: 1\n",
      "multiply of items : 1\n",
      "sum of items: 4\n",
      "multiply of items : 3\n",
      "sum of items: 7\n",
      "multiply of items : 9\n",
      "sum of items: 11\n",
      "multiply of items : 36\n"
     ]
    }
   ],
   "source": [
    "# write a python program to sum all the items and multiply all the items \n",
    "def a(l):\n",
    "    sum=0\n",
    "    mul=1\n",
    "    for i in range(len(l)):\n",
    "        sum= sum+l[i]\n",
    "        mul= mul*l[i]\n",
    "        print(\"sum of items:\",sum)\n",
    "        print(\"multiply of items :\",mul)\n",
    "a([1,3,3,4])"
   ]
  },
  {
   "cell_type": "code",
   "execution_count": 7,
   "id": "3e88db20",
   "metadata": {},
   "outputs": [
    {
     "name": "stdout",
     "output_type": "stream",
     "text": [
      "True\n",
      "None\n"
     ]
    }
   ],
   "source": [
    "# write a python program function that takes two lists and returns true if they have at least one common member\n",
    "def common(list1,list2):\n",
    "    result=False\n",
    "    for i in list1:\n",
    "        for j in list2:\n",
    "            if i==j:\n",
    "                \n",
    "                result=True\n",
    "                return result\n",
    "print(common([1,2,3,4,5],[5,6,7,8,9]))\n",
    "print(common([1,2,3,4,5],[6,7,8,9]))"
   ]
  },
  {
   "cell_type": "code",
   "execution_count": null,
   "id": "546dbe78",
   "metadata": {},
   "outputs": [],
   "source": []
  },
  {
   "cell_type": "code",
   "execution_count": 13,
   "id": "4c923029",
   "metadata": {},
   "outputs": [
    {
     "name": "stdout",
     "output_type": "stream",
     "text": [
      "the difference between two lists color1-color2: ['red', 'orange', 'white']\n",
      "the difference between two lists color2-color1: ['black ', 'yellow']\n"
     ]
    }
   ],
   "source": [
    "# write a python program to compute the difference between two lists\n",
    "color1 =[\"red\",\"orange\",\"green\",\"blue\",\"white\"]\n",
    "color2= [\"black \",\"yellow\",\"green\",\"blue\"]\n",
    "c=[]\n",
    "d=[]\n",
    "for i in color1:\n",
    "    if i not in color2:\n",
    "        c.append(i)\n",
    "for j in color2:\n",
    "    if j not in color1:\n",
    "        d.append(j)\n",
    "    \n",
    "print(\"the difference between two lists color1-color2:\",c)\n",
    "print(\"the difference between two lists color2-color1:\",d)"
   ]
  },
  {
   "cell_type": "code",
   "execution_count": 2,
   "id": "3a3f8ad3",
   "metadata": {},
   "outputs": [
    {
     "name": "stdout",
     "output_type": "stream",
     "text": [
      "{'white', 'orange', 'red'}\n",
      "{'yellow', 'black '}\n"
     ]
    }
   ],
   "source": [
    "# method 2\n",
    "color1 =[\"red\",\"orange\",\"green\",\"blue\",\"white\"]\n",
    "color2= [\"black \",\"yellow\",\"green\",\"blue\"]\n",
    "print(set(color1)-(set(color2)))\n",
    "print(set(color2)-(set(color1)))"
   ]
  },
  {
   "cell_type": "code",
   "execution_count": null,
   "id": "7e6962fc",
   "metadata": {},
   "outputs": [],
   "source": []
  },
  {
   "cell_type": "code",
   "execution_count": null,
   "id": "0cd28387",
   "metadata": {},
   "outputs": [],
   "source": []
  }
 ],
 "metadata": {
  "kernelspec": {
   "display_name": "Python 3 (ipykernel)",
   "language": "python",
   "name": "python3"
  },
  "language_info": {
   "codemirror_mode": {
    "name": "ipython",
    "version": 3
   },
   "file_extension": ".py",
   "mimetype": "text/x-python",
   "name": "python",
   "nbconvert_exporter": "python",
   "pygments_lexer": "ipython3",
   "version": "3.9.13"
  }
 },
 "nbformat": 4,
 "nbformat_minor": 5
}
