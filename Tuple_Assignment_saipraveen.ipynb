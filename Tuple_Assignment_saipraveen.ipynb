{
 "cells": [
  {
   "cell_type": "code",
   "execution_count": 1,
   "id": "e1dec1ec",
   "metadata": {},
   "outputs": [],
   "source": [
    "#Find elements frequency in Tuple\n",
    "#Sample Input: (4, 5, 4, 5, 6, 6, 5) \n",
    "#Output : {4: 2, 5: 3, 6: 2} \n"
   ]
  },
  {
   "cell_type": "code",
   "execution_count": 9,
   "id": "a394cab4",
   "metadata": {},
   "outputs": [
    {
     "data": {
      "text/plain": [
       "{4: 2, 5: 3, 6: 2}"
      ]
     },
     "execution_count": 9,
     "metadata": {},
     "output_type": "execute_result"
    }
   ],
   "source": [
    "a=(4, 5, 4, 5, 6, 6, 5) \n",
    "b=list(a)\n",
    "c=dict()\n",
    "for i in b:\n",
    "    c[i]=b.count(i)\n",
    "c\n"
   ]
  },
  {
   "cell_type": "code",
   "execution_count": 3,
   "id": "e8107bb6",
   "metadata": {},
   "outputs": [],
   "source": [
    "#Python program to sort a list of tuples alphabetically\n",
    "#Input: [(\"aaaa\", 28), (\"aa\", 30), (\"bab\", 29), (\"bb\", 21), (\"csa\", \"C\")]\n",
    "#Output: [('aa', 30), ('aaaa', 28), ('bab', 29), ('bb', 21), ('csa', 'C')]\n",
    "\n"
   ]
  },
  {
   "cell_type": "code",
   "execution_count": 8,
   "id": "67475375",
   "metadata": {},
   "outputs": [
    {
     "name": "stdout",
     "output_type": "stream",
     "text": [
      "[('aa', 30), ('aaaa', 28), ('bab', 29), ('bb', 21), ('csa', 'C')]\n"
     ]
    }
   ],
   "source": [
    "a = [(\"aaaa\", 28), (\"aa\", 30), (\"bab\", 29), (\"bb\", 21), (\"csa\", \"C\")]\n",
    "a.sort()\n",
    "print(a)"
   ]
  },
  {
   "cell_type": "code",
   "execution_count": 9,
   "id": "0cb9c153",
   "metadata": {},
   "outputs": [],
   "source": [
    "#Write a Python program to calculate the average value of the numbers in a given tuple of tuples\n",
    "#Original Tuple:  ((1, 1, -5), (30, -15, 56), (81, -60, -39), (-10, 2, 3))\n",
    "#Average value of the numbers of the said tuple of tuples:[25.5, -18.0, 3.75]\n"
   ]
  },
  {
   "cell_type": "code",
   "execution_count": 15,
   "id": "4657932e",
   "metadata": {},
   "outputs": [
    {
     "data": {
      "text/plain": [
       "[25.5, -18.0, 3.75]"
      ]
     },
     "execution_count": 15,
     "metadata": {},
     "output_type": "execute_result"
    }
   ],
   "source": [
    "num=((1, 1, -5), (30, -15, 56), (81, -60, -39), (-10, 2, 3))\n",
    "a=[]\n",
    "for i in range(len(num)-1):\n",
    "    b=((num[0][i]+num[1][i]+num[2][i]+num[3][i])/len(num))\n",
    "    a.append(b)\n",
    "a\n",
    "\n"
   ]
  },
  {
   "cell_type": "code",
   "execution_count": null,
   "id": "1002cddd",
   "metadata": {},
   "outputs": [],
   "source": []
  }
 ],
 "metadata": {
  "kernelspec": {
   "display_name": "Python 3 (ipykernel)",
   "language": "python",
   "name": "python3"
  },
  "language_info": {
   "codemirror_mode": {
    "name": "ipython",
    "version": 3
   },
   "file_extension": ".py",
   "mimetype": "text/x-python",
   "name": "python",
   "nbconvert_exporter": "python",
   "pygments_lexer": "ipython3",
   "version": "3.9.13"
  }
 },
 "nbformat": 4,
 "nbformat_minor": 5
}
