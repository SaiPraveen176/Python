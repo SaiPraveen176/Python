{
 "cells": [
  {
   "cell_type": "code",
   "execution_count": 1,
   "id": "fc056178",
   "metadata": {},
   "outputs": [],
   "source": [
    "# Write a python program to convert a string to lower case"
   ]
  },
  {
   "cell_type": "code",
   "execution_count": 4,
   "id": "2a671fbb",
   "metadata": {},
   "outputs": [
    {
     "data": {
      "text/plain": [
       "'praveen'"
      ]
     },
     "execution_count": 4,
     "metadata": {},
     "output_type": "execute_result"
    }
   ],
   "source": [
    "s = \"PRAVEEN\"\n",
    "s.lower()\n"
   ]
  },
  {
   "cell_type": "code",
   "execution_count": null,
   "id": "f692b04c",
   "metadata": {},
   "outputs": [],
   "source": [
    "#Write a python program to convert only odd indexed characters to lower case\n",
    "#Ex: PYTHON\n",
    "#Output: - PyThOn\n"
   ]
  },
  {
   "cell_type": "code",
   "execution_count": 11,
   "id": "d57d3532",
   "metadata": {},
   "outputs": [
    {
     "name": "stdout",
     "output_type": "stream",
     "text": [
      " PyThOn\n"
     ]
    }
   ],
   "source": [
    "s = \"PYTHON\"\n",
    "p=\" \"\n",
    "for i in range(len(s)):\n",
    "    if i%2==0:\n",
    "        p= p+s[i].upper()\n",
    "    else:\n",
    "        p= p+s[i].lower()\n",
    "print(p)   \n"
   ]
  },
  {
   "cell_type": "code",
   "execution_count": 16,
   "id": "08762b0e",
   "metadata": {},
   "outputs": [],
   "source": [
    "#Write a python program to convert only even indexed characters to lower case\n",
    "#Ex: PYTHON\n",
    "#Output: - pYtHoN"
   ]
  },
  {
   "cell_type": "code",
   "execution_count": 12,
   "id": "55d3c001",
   "metadata": {},
   "outputs": [
    {
     "name": "stdout",
     "output_type": "stream",
     "text": [
      " pYtHoN\n"
     ]
    }
   ],
   "source": [
    "s = \"PYTHON\"\n",
    "p=\" \"\n",
    "for i in range(len(s)):\n",
    "    if i%2==0:\n",
    "        p= p+s[i].lower()\n",
    "    else:\n",
    "        p= p+s[i].upper()\n",
    "print(p)"
   ]
  },
  {
   "cell_type": "code",
   "execution_count": 17,
   "id": "da411621",
   "metadata": {},
   "outputs": [],
   "source": [
    "#Write a python program to convert only odd indexed characters to upper case\n",
    "#Ex: python\n",
    "#Output: pYtHoN"
   ]
  },
  {
   "cell_type": "code",
   "execution_count": 22,
   "id": "24aa8cea",
   "metadata": {},
   "outputs": [
    {
     "name": "stdout",
     "output_type": "stream",
     "text": [
      " pYtHoN\n"
     ]
    }
   ],
   "source": [
    "s = \"python\"\n",
    "p = \" \"\n",
    "for i in range(len(s)):\n",
    "    if i%2==0:\n",
    "        p=p+s[i].lower()\n",
    "    else:\n",
    "        p=p+s[i].upper()\n",
    "print(p)\n",
    "    "
   ]
  },
  {
   "cell_type": "code",
   "execution_count": 58,
   "id": "697da71c",
   "metadata": {},
   "outputs": [],
   "source": [
    "\n",
    "#Write a python program where you have different variable which contains your name, gender, age, phone number, father’s name and mother’s name.And by using this variable create a variable named bio-data where you will use allthis variableEx: print(bio-data)\n",
    "#Output:- My name is …., My age is ….,My phone-no is ….,my father’s name is …,and my mother’s name is…"
   ]
  },
  {
   "cell_type": "code",
   "execution_count": 59,
   "id": "0b5d212c",
   "metadata": {},
   "outputs": [
    {
     "name": "stdout",
     "output_type": "stream",
     "text": [
      "enter your name:sai praveen yerra\n",
      "enter your age:24\n",
      "enter your Phone number:9876543210\n",
      "enter your father's name:ykvr\n",
      "enter your Mother's name:yvvr\n",
      "My name is sai praveen yerra, My age is 24.,My phone-no is 9876543210,my father’s name is ykvr, and my mother’s name is yvvr\n"
     ]
    }
   ],
   "source": [
    "Name = input(\"enter your name:\")\n",
    "age = int(input(\"enter your age:\"))\n",
    "Phone_number = int(input(\"enter your Phone number:\"))\n",
    "Father_name = input(\"enter your father's name:\")\n",
    "Mother_name = input(\"enter your Mother's name:\")\n",
    "bio = \"My name is {0}, My age is {1}.,My phone-no is {2},my father’s name is {3}, and my mother’s name is {4}\".format(Name,age,Phone_number,Father_name,Mother_name)\n",
    "print(bio)\n"
   ]
  },
  {
   "cell_type": "code",
   "execution_count": 48,
   "id": "566ba7cb",
   "metadata": {},
   "outputs": [],
   "source": [
    "#Write a python program to count how many times “@” occurred\n",
    "#Ex: S@ndhy@\n",
    "#Output: 2\n"
   ]
  },
  {
   "cell_type": "code",
   "execution_count": 53,
   "id": "caa5774b",
   "metadata": {},
   "outputs": [
    {
     "data": {
      "text/plain": [
       "2"
      ]
     },
     "execution_count": 53,
     "metadata": {},
     "output_type": "execute_result"
    }
   ],
   "source": [
    "a = \"s@ndhy@\"\n",
    "a.count('@')\n"
   ]
  },
  {
   "cell_type": "code",
   "execution_count": 57,
   "id": "40a12a31",
   "metadata": {},
   "outputs": [
    {
     "name": "stdout",
     "output_type": "stream",
     "text": [
      "sai praveen yerra\n"
     ]
    }
   ],
   "source": [
    "#Write a python program to get only names from the string Ex: “name1.@gmail.com, name2.@gmail.com, name#3.@gmail.com”\n",
    "#Output-name1, name2, name3\n",
    "user1=\"sai@gmail.com\"\n",
    "user2=\"praveen@gmail.com\"\n",
    "user3=\"yerra@gmail.com\"\n",
    "a=user1.split(\"@\")\n",
    "b=user2.split('@')\n",
    "c=user3.split('@')\n",
    "print(a[0],b[0],c[0])"
   ]
  },
  {
   "cell_type": "code",
   "execution_count": 60,
   "id": "65f4396a",
   "metadata": {},
   "outputs": [],
   "source": [
    "#Write a program to remove vowels from the entire alphabets\n",
    "#Ex: “abcdefghijklmnopqrstuvwxyz”\n",
    "#Output: “bcdfghjklmnpqrstvwxyz”"
   ]
  },
  {
   "cell_type": "code",
   "execution_count": 66,
   "id": "7a1f1d58",
   "metadata": {},
   "outputs": [
    {
     "name": "stdout",
     "output_type": "stream",
     "text": [
      " bcdfghjklmnpqrstvwxyz\n"
     ]
    }
   ],
   "source": [
    "a = \"abcdefghijklmnopqrstuvwxyz\"\n",
    "b = \"aeiou\"\n",
    "output=\" \"\n",
    "for i in a:\n",
    "    if i not in b:\n",
    "        output = output+i\n",
    "print(output)"
   ]
  },
  {
   "cell_type": "code",
   "execution_count": 67,
   "id": "7bf712d8",
   "metadata": {},
   "outputs": [],
   "source": [
    "#Find all occurrences of a substring in a given string by ignoring the case\n",
    "#Ex: str1 = \"Welcome to Innomatics. innomatics awesome, isn't it?\"\n",
    "#Output: The innomatics count is: "
   ]
  },
  {
   "cell_type": "code",
   "execution_count": 72,
   "id": "de8da82a",
   "metadata": {},
   "outputs": [
    {
     "data": {
      "text/plain": [
       "2"
      ]
     },
     "execution_count": 72,
     "metadata": {},
     "output_type": "execute_result"
    }
   ],
   "source": [
    "str1 = \"Welcome to Innomatics. innomatics awesome, isn't it?\"\n",
    "a = str1.lower()\n",
    "a.count(\"innomatics\")"
   ]
  },
  {
   "cell_type": "code",
   "execution_count": null,
   "id": "453c13ee",
   "metadata": {},
   "outputs": [],
   "source": []
  }
 ],
 "metadata": {
  "kernelspec": {
   "display_name": "Python 3 (ipykernel)",
   "language": "python",
   "name": "python3"
  },
  "language_info": {
   "codemirror_mode": {
    "name": "ipython",
    "version": 3
   },
   "file_extension": ".py",
   "mimetype": "text/x-python",
   "name": "python",
   "nbconvert_exporter": "python",
   "pygments_lexer": "ipython3",
   "version": "3.9.13"
  }
 },
 "nbformat": 4,
 "nbformat_minor": 5
}
